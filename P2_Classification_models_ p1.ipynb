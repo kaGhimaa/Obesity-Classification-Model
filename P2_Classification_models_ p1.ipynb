{
  "nbformat": 4,
  "nbformat_minor": 0,
  "metadata": {
    "colab": {
      "provenance": []
    },
    "kernelspec": {
      "name": "python3",
      "display_name": "Python 3"
    },
    "language_info": {
      "name": "python"
    }
  },
  "cells": [
    {
      "cell_type": "markdown",
      "source": [
        "# Classification"
      ],
      "metadata": {
        "id": "yNxHN3RfyptW"
      }
    },
    {
      "cell_type": "markdown",
      "source": [
        "## DATASET preparation"
      ],
      "metadata": {
        "id": "bDBXutUi7Iz6"
      }
    },
    {
      "cell_type": "markdown",
      "source": [
        "### Step 01 : importing libraries"
      ],
      "metadata": {
        "id": "LjC6Sj1D7ZfN"
      }
    },
    {
      "cell_type": "code",
      "source": [
        "import pandas as pd\n",
        "from sklearn.model_selection import train_test_split\n",
        "from sklearn.metrics import accuracy_score, classification_report, confusion_matrix"
      ],
      "metadata": {
        "id": "tgu5JMbyzEHV"
      },
      "execution_count": 1,
      "outputs": []
    },
    {
      "cell_type": "markdown",
      "source": [
        "### Step 02 : Loading data"
      ],
      "metadata": {
        "id": "k9e2t1dV7haD"
      }
    },
    {
      "cell_type": "code",
      "source": [
        "path =\"/content/drive/MyDrive/Projet ML/Modified_ObesityDataset_.csv\"\n",
        "df = pd.read_csv(path)"
      ],
      "metadata": {
        "id": "Eb_menmvzGL9"
      },
      "execution_count": 2,
      "outputs": []
    },
    {
      "cell_type": "markdown",
      "source": [
        "### Step 03 : split the data into X ( features ) and y (Target)"
      ],
      "metadata": {
        "id": "zGpLXyF37mRT"
      }
    },
    {
      "cell_type": "code",
      "source": [
        "X = df.drop('NObeyesdad', axis=1)\n",
        "y = df['NObeyesdad']"
      ],
      "metadata": {
        "id": "rx1R9BfG7rwL"
      },
      "execution_count": null,
      "outputs": []
    },
    {
      "cell_type": "markdown",
      "source": [
        "### Step 04 : split the data into training and testing sets"
      ],
      "metadata": {
        "id": "4XVseXWe7wg8"
      }
    },
    {
      "cell_type": "code",
      "source": [
        "X_train, X_test, y_train, y_test = train_test_split(X, y, test_size=0.2, random_state=42)"
      ],
      "metadata": {
        "id": "GjwEtTgN71JD"
      },
      "execution_count": null,
      "outputs": []
    },
    {
      "cell_type": "markdown",
      "source": [
        "## Model 01 : Support Vector Machine (SVM)"
      ],
      "metadata": {
        "id": "KbfA1TQPys4l"
      }
    },
    {
      "cell_type": "markdown",
      "source": [
        "### Step 01 : import libraries"
      ],
      "metadata": {
        "id": "l0QtU2SuzaVA"
      }
    },
    {
      "cell_type": "code",
      "source": [
        "from sklearn import svm\n",
        "from sklearn.svm import SVC"
      ],
      "metadata": {
        "id": "pAx6UrI0ypNo"
      },
      "execution_count": 7,
      "outputs": []
    },
    {
      "cell_type": "markdown",
      "source": [
        "### Step 02 : fit the classification model *italicized text*"
      ],
      "metadata": {
        "id": "DvJe3h7g0ZBZ"
      }
    },
    {
      "cell_type": "code",
      "source": [
        "svm_classifier = SVC(kernel='linear', random_state=42)\n",
        "svm_classifier.fit(X_train, y_train)"
      ],
      "metadata": {
        "colab": {
          "base_uri": "https://localhost:8080/",
          "height": 74
        },
        "id": "4CmjCdtC0Xe1",
        "outputId": "cfa8f18f-4800-471d-ee1a-e39aeafc9c7c"
      },
      "execution_count": 8,
      "outputs": [
        {
          "output_type": "execute_result",
          "data": {
            "text/plain": [
              "SVC(kernel='linear', random_state=42)"
            ],
            "text/html": [
              "<style>#sk-container-id-1 {color: black;background-color: white;}#sk-container-id-1 pre{padding: 0;}#sk-container-id-1 div.sk-toggleable {background-color: white;}#sk-container-id-1 label.sk-toggleable__label {cursor: pointer;display: block;width: 100%;margin-bottom: 0;padding: 0.3em;box-sizing: border-box;text-align: center;}#sk-container-id-1 label.sk-toggleable__label-arrow:before {content: \"▸\";float: left;margin-right: 0.25em;color: #696969;}#sk-container-id-1 label.sk-toggleable__label-arrow:hover:before {color: black;}#sk-container-id-1 div.sk-estimator:hover label.sk-toggleable__label-arrow:before {color: black;}#sk-container-id-1 div.sk-toggleable__content {max-height: 0;max-width: 0;overflow: hidden;text-align: left;background-color: #f0f8ff;}#sk-container-id-1 div.sk-toggleable__content pre {margin: 0.2em;color: black;border-radius: 0.25em;background-color: #f0f8ff;}#sk-container-id-1 input.sk-toggleable__control:checked~div.sk-toggleable__content {max-height: 200px;max-width: 100%;overflow: auto;}#sk-container-id-1 input.sk-toggleable__control:checked~label.sk-toggleable__label-arrow:before {content: \"▾\";}#sk-container-id-1 div.sk-estimator input.sk-toggleable__control:checked~label.sk-toggleable__label {background-color: #d4ebff;}#sk-container-id-1 div.sk-label input.sk-toggleable__control:checked~label.sk-toggleable__label {background-color: #d4ebff;}#sk-container-id-1 input.sk-hidden--visually {border: 0;clip: rect(1px 1px 1px 1px);clip: rect(1px, 1px, 1px, 1px);height: 1px;margin: -1px;overflow: hidden;padding: 0;position: absolute;width: 1px;}#sk-container-id-1 div.sk-estimator {font-family: monospace;background-color: #f0f8ff;border: 1px dotted black;border-radius: 0.25em;box-sizing: border-box;margin-bottom: 0.5em;}#sk-container-id-1 div.sk-estimator:hover {background-color: #d4ebff;}#sk-container-id-1 div.sk-parallel-item::after {content: \"\";width: 100%;border-bottom: 1px solid gray;flex-grow: 1;}#sk-container-id-1 div.sk-label:hover label.sk-toggleable__label {background-color: #d4ebff;}#sk-container-id-1 div.sk-serial::before {content: \"\";position: absolute;border-left: 1px solid gray;box-sizing: border-box;top: 0;bottom: 0;left: 50%;z-index: 0;}#sk-container-id-1 div.sk-serial {display: flex;flex-direction: column;align-items: center;background-color: white;padding-right: 0.2em;padding-left: 0.2em;position: relative;}#sk-container-id-1 div.sk-item {position: relative;z-index: 1;}#sk-container-id-1 div.sk-parallel {display: flex;align-items: stretch;justify-content: center;background-color: white;position: relative;}#sk-container-id-1 div.sk-item::before, #sk-container-id-1 div.sk-parallel-item::before {content: \"\";position: absolute;border-left: 1px solid gray;box-sizing: border-box;top: 0;bottom: 0;left: 50%;z-index: -1;}#sk-container-id-1 div.sk-parallel-item {display: flex;flex-direction: column;z-index: 1;position: relative;background-color: white;}#sk-container-id-1 div.sk-parallel-item:first-child::after {align-self: flex-end;width: 50%;}#sk-container-id-1 div.sk-parallel-item:last-child::after {align-self: flex-start;width: 50%;}#sk-container-id-1 div.sk-parallel-item:only-child::after {width: 0;}#sk-container-id-1 div.sk-dashed-wrapped {border: 1px dashed gray;margin: 0 0.4em 0.5em 0.4em;box-sizing: border-box;padding-bottom: 0.4em;background-color: white;}#sk-container-id-1 div.sk-label label {font-family: monospace;font-weight: bold;display: inline-block;line-height: 1.2em;}#sk-container-id-1 div.sk-label-container {text-align: center;}#sk-container-id-1 div.sk-container {/* jupyter's `normalize.less` sets `[hidden] { display: none; }` but bootstrap.min.css set `[hidden] { display: none !important; }` so we also need the `!important` here to be able to override the default hidden behavior on the sphinx rendered scikit-learn.org. See: https://github.com/scikit-learn/scikit-learn/issues/21755 */display: inline-block !important;position: relative;}#sk-container-id-1 div.sk-text-repr-fallback {display: none;}</style><div id=\"sk-container-id-1\" class=\"sk-top-container\"><div class=\"sk-text-repr-fallback\"><pre>SVC(kernel=&#x27;linear&#x27;, random_state=42)</pre><b>In a Jupyter environment, please rerun this cell to show the HTML representation or trust the notebook. <br />On GitHub, the HTML representation is unable to render, please try loading this page with nbviewer.org.</b></div><div class=\"sk-container\" hidden><div class=\"sk-item\"><div class=\"sk-estimator sk-toggleable\"><input class=\"sk-toggleable__control sk-hidden--visually\" id=\"sk-estimator-id-1\" type=\"checkbox\" checked><label for=\"sk-estimator-id-1\" class=\"sk-toggleable__label sk-toggleable__label-arrow\">SVC</label><div class=\"sk-toggleable__content\"><pre>SVC(kernel=&#x27;linear&#x27;, random_state=42)</pre></div></div></div></div></div>"
            ]
          },
          "metadata": {},
          "execution_count": 8
        }
      ]
    },
    {
      "cell_type": "markdown",
      "source": [
        "### Step 03 : evaluate the model"
      ],
      "metadata": {
        "id": "kRlaiImr0stZ"
      }
    },
    {
      "cell_type": "code",
      "source": [
        "# Make predictions on the test set\n",
        "y_pred = svm_classifier.predict(X_test)\n",
        "\n",
        "# Calculate accuracy\n",
        "accuracy = accuracy_score(y_test, y_pred)\n",
        "print(\"Accuracy:\", accuracy)\n",
        "\n",
        "# Generate classification report\n",
        "print(\"\\nClassification Report:\")\n",
        "print(classification_report(y_test, y_pred))\n",
        "\n",
        "# Generate confusion matrix\n",
        "print(\"\\nConfusion Matrix:\")\n",
        "print(confusion_matrix(y_test, y_pred))"
      ],
      "metadata": {
        "colab": {
          "base_uri": "https://localhost:8080/"
        },
        "id": "t3gXeApH0v8H",
        "outputId": "ac15040e-410d-4a18-a206-520a26ef792c"
      },
      "execution_count": 9,
      "outputs": [
        {
          "output_type": "stream",
          "name": "stdout",
          "text": [
            "Accuracy: 0.8858695652173914\n",
            "\n",
            "Classification Report:\n",
            "              precision    recall  f1-score   support\n",
            "\n",
            "           0       0.89      0.86      0.87        63\n",
            "           1       0.72      0.82      0.77        61\n",
            "           2       0.85      0.71      0.77        55\n",
            "           3       0.89      0.92      0.91        64\n",
            "           4       0.97      0.98      0.98        66\n",
            "           5       1.00      1.00      1.00        59\n",
            "\n",
            "    accuracy                           0.89       368\n",
            "   macro avg       0.89      0.88      0.88       368\n",
            "weighted avg       0.89      0.89      0.89       368\n",
            "\n",
            "\n",
            "Confusion Matrix:\n",
            "[[54  9  0  0  0  0]\n",
            " [ 5 50  5  1  0  0]\n",
            " [ 2  9 39  5  0  0]\n",
            " [ 0  1  2 59  2  0]\n",
            " [ 0  0  0  1 65  0]\n",
            " [ 0  0  0  0  0 59]]\n"
          ]
        }
      ]
    },
    {
      "cell_type": "markdown",
      "source": [
        "### Step 04 : grid search to fine-tune the hyperparameters of SVC"
      ],
      "metadata": {
        "id": "5YjY0xDT1VBn"
      }
    },
    {
      "cell_type": "code",
      "source": [
        "from sklearn.model_selection import GridSearchCV\n",
        "\n",
        "# Define the parameter grid\n",
        "param_grid = {\n",
        "    'C': [0.1, 1, 10, 100],  # Regularization parameter\n",
        "    'kernel': ['linear', 'rbf', 'poly'],  # Kernel types to try\n",
        "    'gamma': ['scale', 'auto']  # Kernel coefficient for 'rbf' and 'poly'\n",
        "}\n",
        "\n",
        "# Create an SVC classifier object\n",
        "svm_classifier = SVC(random_state=42)\n",
        "\n",
        "# Instantiate GridSearchCV\n",
        "grid_search = GridSearchCV(estimator=svm_classifier, param_grid=param_grid, cv=5, scoring='accuracy')\n",
        "\n",
        "# Fit the grid search to the data\n",
        "grid_search.fit(X_train, y_train)\n",
        "\n",
        "# Get the best parameters\n",
        "best_params = grid_search.best_params_\n",
        "print(\"Best Parameters:\", best_params)\n",
        "\n",
        "# Get the best estimator (classifier)\n",
        "best_classifier = grid_search.best_estimator_\n",
        "\n",
        "# Make predictions on the test set using the best classifier\n",
        "y_pred = best_classifier.predict(X_test)\n",
        "\n",
        "# Evaluate the best classifier\n",
        "accuracy = accuracy_score(y_test, y_pred)\n",
        "print(\"Accuracy:\", accuracy)\n",
        "\n",
        "# Print classification report and confusion matrix\n",
        "print(\"\\nClassification Report:\")\n",
        "print(classification_report(y_test, y_pred))\n",
        "\n",
        "print(\"\\nConfusion Matrix:\")\n",
        "print(confusion_matrix(y_test, y_pred))\n"
      ],
      "metadata": {
        "colab": {
          "base_uri": "https://localhost:8080/"
        },
        "id": "5WRHr5EV1fjh",
        "outputId": "a61ab273-f643-4860-9466-eabf9d176f74"
      },
      "execution_count": 10,
      "outputs": [
        {
          "output_type": "stream",
          "name": "stdout",
          "text": [
            "Best Parameters: {'C': 100, 'gamma': 'scale', 'kernel': 'linear'}\n",
            "Accuracy: 0.9565217391304348\n",
            "\n",
            "Classification Report:\n",
            "              precision    recall  f1-score   support\n",
            "\n",
            "           0       0.97      0.97      0.97        63\n",
            "           1       0.90      0.90      0.90        61\n",
            "           2       0.89      0.91      0.90        55\n",
            "           3       0.97      0.97      0.97        64\n",
            "           4       1.00      0.98      0.99        66\n",
            "           5       1.00      1.00      1.00        59\n",
            "\n",
            "    accuracy                           0.96       368\n",
            "   macro avg       0.96      0.96      0.96       368\n",
            "weighted avg       0.96      0.96      0.96       368\n",
            "\n",
            "\n",
            "Confusion Matrix:\n",
            "[[61  2  0  0  0  0]\n",
            " [ 2 55  4  0  0  0]\n",
            " [ 0  4 50  1  0  0]\n",
            " [ 0  0  2 62  0  0]\n",
            " [ 0  0  0  1 65  0]\n",
            " [ 0  0  0  0  0 59]]\n"
          ]
        }
      ]
    },
    {
      "cell_type": "markdown",
      "source": [
        "## Model 02 : Random Forest"
      ],
      "metadata": {
        "id": "nawCbfVt4_AI"
      }
    },
    {
      "cell_type": "markdown",
      "source": [
        "### Step 01 : import libraries"
      ],
      "metadata": {
        "id": "lqv0JAuk5GjH"
      }
    },
    {
      "cell_type": "code",
      "source": [
        "from sklearn.ensemble import RandomForestClassifier"
      ],
      "metadata": {
        "id": "UrTI8PJ25DQG"
      },
      "execution_count": 11,
      "outputs": []
    },
    {
      "cell_type": "markdown",
      "source": [
        "### Step 2: Create and Fit the Random Forest Classifier"
      ],
      "metadata": {
        "id": "EM3GJWZj5eCX"
      }
    },
    {
      "cell_type": "code",
      "source": [
        "# Create a Random Forest classifier object\n",
        "rf_classifier = RandomForestClassifier(random_state=42)\n",
        "\n",
        "# Fit the classifier to the training data\n",
        "rf_classifier.fit(X_train, y_train)\n"
      ],
      "metadata": {
        "colab": {
          "base_uri": "https://localhost:8080/",
          "height": 74
        },
        "id": "m7wUAWm25Udu",
        "outputId": "7f54a30a-dd39-40bd-ae04-c7fbf0045cfd"
      },
      "execution_count": 12,
      "outputs": [
        {
          "output_type": "execute_result",
          "data": {
            "text/plain": [
              "RandomForestClassifier(random_state=42)"
            ],
            "text/html": [
              "<style>#sk-container-id-2 {color: black;background-color: white;}#sk-container-id-2 pre{padding: 0;}#sk-container-id-2 div.sk-toggleable {background-color: white;}#sk-container-id-2 label.sk-toggleable__label {cursor: pointer;display: block;width: 100%;margin-bottom: 0;padding: 0.3em;box-sizing: border-box;text-align: center;}#sk-container-id-2 label.sk-toggleable__label-arrow:before {content: \"▸\";float: left;margin-right: 0.25em;color: #696969;}#sk-container-id-2 label.sk-toggleable__label-arrow:hover:before {color: black;}#sk-container-id-2 div.sk-estimator:hover label.sk-toggleable__label-arrow:before {color: black;}#sk-container-id-2 div.sk-toggleable__content {max-height: 0;max-width: 0;overflow: hidden;text-align: left;background-color: #f0f8ff;}#sk-container-id-2 div.sk-toggleable__content pre {margin: 0.2em;color: black;border-radius: 0.25em;background-color: #f0f8ff;}#sk-container-id-2 input.sk-toggleable__control:checked~div.sk-toggleable__content {max-height: 200px;max-width: 100%;overflow: auto;}#sk-container-id-2 input.sk-toggleable__control:checked~label.sk-toggleable__label-arrow:before {content: \"▾\";}#sk-container-id-2 div.sk-estimator input.sk-toggleable__control:checked~label.sk-toggleable__label {background-color: #d4ebff;}#sk-container-id-2 div.sk-label input.sk-toggleable__control:checked~label.sk-toggleable__label {background-color: #d4ebff;}#sk-container-id-2 input.sk-hidden--visually {border: 0;clip: rect(1px 1px 1px 1px);clip: rect(1px, 1px, 1px, 1px);height: 1px;margin: -1px;overflow: hidden;padding: 0;position: absolute;width: 1px;}#sk-container-id-2 div.sk-estimator {font-family: monospace;background-color: #f0f8ff;border: 1px dotted black;border-radius: 0.25em;box-sizing: border-box;margin-bottom: 0.5em;}#sk-container-id-2 div.sk-estimator:hover {background-color: #d4ebff;}#sk-container-id-2 div.sk-parallel-item::after {content: \"\";width: 100%;border-bottom: 1px solid gray;flex-grow: 1;}#sk-container-id-2 div.sk-label:hover label.sk-toggleable__label {background-color: #d4ebff;}#sk-container-id-2 div.sk-serial::before {content: \"\";position: absolute;border-left: 1px solid gray;box-sizing: border-box;top: 0;bottom: 0;left: 50%;z-index: 0;}#sk-container-id-2 div.sk-serial {display: flex;flex-direction: column;align-items: center;background-color: white;padding-right: 0.2em;padding-left: 0.2em;position: relative;}#sk-container-id-2 div.sk-item {position: relative;z-index: 1;}#sk-container-id-2 div.sk-parallel {display: flex;align-items: stretch;justify-content: center;background-color: white;position: relative;}#sk-container-id-2 div.sk-item::before, #sk-container-id-2 div.sk-parallel-item::before {content: \"\";position: absolute;border-left: 1px solid gray;box-sizing: border-box;top: 0;bottom: 0;left: 50%;z-index: -1;}#sk-container-id-2 div.sk-parallel-item {display: flex;flex-direction: column;z-index: 1;position: relative;background-color: white;}#sk-container-id-2 div.sk-parallel-item:first-child::after {align-self: flex-end;width: 50%;}#sk-container-id-2 div.sk-parallel-item:last-child::after {align-self: flex-start;width: 50%;}#sk-container-id-2 div.sk-parallel-item:only-child::after {width: 0;}#sk-container-id-2 div.sk-dashed-wrapped {border: 1px dashed gray;margin: 0 0.4em 0.5em 0.4em;box-sizing: border-box;padding-bottom: 0.4em;background-color: white;}#sk-container-id-2 div.sk-label label {font-family: monospace;font-weight: bold;display: inline-block;line-height: 1.2em;}#sk-container-id-2 div.sk-label-container {text-align: center;}#sk-container-id-2 div.sk-container {/* jupyter's `normalize.less` sets `[hidden] { display: none; }` but bootstrap.min.css set `[hidden] { display: none !important; }` so we also need the `!important` here to be able to override the default hidden behavior on the sphinx rendered scikit-learn.org. See: https://github.com/scikit-learn/scikit-learn/issues/21755 */display: inline-block !important;position: relative;}#sk-container-id-2 div.sk-text-repr-fallback {display: none;}</style><div id=\"sk-container-id-2\" class=\"sk-top-container\"><div class=\"sk-text-repr-fallback\"><pre>RandomForestClassifier(random_state=42)</pre><b>In a Jupyter environment, please rerun this cell to show the HTML representation or trust the notebook. <br />On GitHub, the HTML representation is unable to render, please try loading this page with nbviewer.org.</b></div><div class=\"sk-container\" hidden><div class=\"sk-item\"><div class=\"sk-estimator sk-toggleable\"><input class=\"sk-toggleable__control sk-hidden--visually\" id=\"sk-estimator-id-2\" type=\"checkbox\" checked><label for=\"sk-estimator-id-2\" class=\"sk-toggleable__label sk-toggleable__label-arrow\">RandomForestClassifier</label><div class=\"sk-toggleable__content\"><pre>RandomForestClassifier(random_state=42)</pre></div></div></div></div></div>"
            ]
          },
          "metadata": {},
          "execution_count": 12
        }
      ]
    },
    {
      "cell_type": "markdown",
      "source": [
        "### Step 03 : evaluate the model"
      ],
      "metadata": {
        "id": "d5kSRe-95jP2"
      }
    },
    {
      "cell_type": "code",
      "source": [
        "# Make predictions on the test set\n",
        "y_pred_rf = rf_classifier.predict(X_test)\n",
        "\n",
        "# Calculate accuracy\n",
        "accuracy_rf = accuracy_score(y_test, y_pred_rf)\n",
        "print(\"Accuracy (Random Forest):\", accuracy_rf)\n",
        "\n",
        "# Generate classification report\n",
        "print(\"\\nClassification Report (Random Forest):\")\n",
        "print(classification_report(y_test, y_pred_rf))\n",
        "\n",
        "# Generate confusion matrix\n",
        "print(\"\\nConfusion Matrix (Random Forest):\")\n",
        "print(confusion_matrix(y_test, y_pred_rf))\n"
      ],
      "metadata": {
        "colab": {
          "base_uri": "https://localhost:8080/"
        },
        "id": "XlOy6d7z5gfA",
        "outputId": "b7a320d5-353c-49c3-a4ba-94d4426668ed"
      },
      "execution_count": 13,
      "outputs": [
        {
          "output_type": "stream",
          "name": "stdout",
          "text": [
            "Accuracy (Random Forest): 0.9429347826086957\n",
            "\n",
            "Classification Report (Random Forest):\n",
            "              precision    recall  f1-score   support\n",
            "\n",
            "           0       0.84      0.94      0.89        63\n",
            "           1       0.91      0.87      0.89        61\n",
            "           2       0.94      0.87      0.91        55\n",
            "           3       0.97      0.97      0.97        64\n",
            "           4       1.00      1.00      1.00        66\n",
            "           5       1.00      1.00      1.00        59\n",
            "\n",
            "    accuracy                           0.94       368\n",
            "   macro avg       0.94      0.94      0.94       368\n",
            "weighted avg       0.94      0.94      0.94       368\n",
            "\n",
            "\n",
            "Confusion Matrix (Random Forest):\n",
            "[[59  4  0  0  0  0]\n",
            " [ 6 53  2  0  0  0]\n",
            " [ 4  1 48  2  0  0]\n",
            " [ 1  0  1 62  0  0]\n",
            " [ 0  0  0  0 66  0]\n",
            " [ 0  0  0  0  0 59]]\n"
          ]
        }
      ]
    },
    {
      "cell_type": "markdown",
      "source": [
        "## Comparison"
      ],
      "metadata": {
        "id": "HqFNzXCE63cE"
      }
    },
    {
      "cell_type": "markdown",
      "source": [
        "\n",
        "1. **Accuracy**:\n",
        "   - SVM Accuracy: Approximately 95.65%\n",
        "   - Random Forest Accuracy: Approximately 94.29%\n",
        "\n",
        "2. **Precision, Recall, and F1-score**:\n",
        "   - Both models show high precision, recall, and F1-score across all classes, indicating strong performance.\n",
        "\n",
        "3. **Computational Complexity**:\n",
        "   - SVM: Generally slower training time, especially with large datasets, due to solving the optimization problem.\n",
        "   - Random Forest: Can be computationally expensive due to building multiple decision trees, but typically scales better with large datasets.\n",
        "\n",
        "4. **Interpretability**:\n",
        "   - SVM: Provides more interpretable models, especially with linear kernels.\n",
        "   - Random Forest: Harder to interpret due to the ensemble nature of the model.\n",
        "\n",
        "5. **Robustness to Overfitting**:\n",
        "   - SVM: Can be prone to overfitting, especially with nonlinear kernels or when the number of features is large compared to the number of samples.\n",
        "   - Random Forest: Less prone to overfitting due to the ensemble approach and built-in bagging and feature randomness.\n",
        "\n",
        "6. **Scalability**:\n",
        "   - SVM: Less scalable with large datasets and high-dimensional data.\n",
        "   - Random Forest: Typically scales better with large datasets and high-dimensional data.\n",
        "\n",
        "7. **Sensitivity to Hyperparameters**:\n",
        "   - SVM: Sensitivity to hyperparameters like C (regularization parameter) and choice of kernel.\n",
        "   - Random Forest: Also sensitive to hyperparameters like the number of trees, max depth, and minimum samples per leaf.\n",
        "\n",
        "Based on these comparisons:\n",
        "\n",
        "- **Accuracy**: SVM has a slightly higher accuracy compared to Random Forest, but the difference is not significant.\n",
        "- **Interpretability**: SVM provides more interpretable models, which might be advantageous if model interpretability is crucial.\n",
        "- **Robustness to Overfitting**: Random Forest tends to be less prone to overfitting, which can be beneficial, especially with complex or noisy datasets.\n",
        "- **Scalability**: Random Forest scales better with large datasets and high-dimensional data, making it more suitable for scalable solutions.\n",
        "\n"
      ],
      "metadata": {
        "id": "FJF4slLt66rM"
      }
    }
  ]
}